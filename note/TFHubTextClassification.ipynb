{
 "cells": [
  {
   "cell_type": "code",
   "execution_count": 1,
   "metadata": {},
   "outputs": [],
   "source": [
    "import tensorflow as tf\n",
    "import tensorflow_hub as hub\n",
    "import numpy as np\n",
    "import pandas as pd\n",
    "from sklearn.utils import shuffle\n",
    "import seaborn as sns\n",
    "import matplotlib.pyplot as plt"
   ]
  },
  {
   "cell_type": "code",
   "execution_count": 20,
   "metadata": {},
   "outputs": [
    {
     "data": {
      "text/html": [
       "<div>\n",
       "<style scoped>\n",
       "    .dataframe tbody tr th:only-of-type {\n",
       "        vertical-align: middle;\n",
       "    }\n",
       "\n",
       "    .dataframe tbody tr th {\n",
       "        vertical-align: top;\n",
       "    }\n",
       "\n",
       "    .dataframe thead th {\n",
       "        text-align: right;\n",
       "    }\n",
       "</style>\n",
       "<table border=\"1\" class=\"dataframe\">\n",
       "  <thead>\n",
       "    <tr style=\"text-align: right;\">\n",
       "      <th></th>\n",
       "      <th>type</th>\n",
       "      <th>text</th>\n",
       "      <th>category_id</th>\n",
       "    </tr>\n",
       "  </thead>\n",
       "  <tbody>\n",
       "    <tr>\n",
       "      <th>405</th>\n",
       "      <td>souseki</td>\n",
       "      <td>妻 の 母 は 時々 ｜ 気 拙  きまず  い 事 を 妻 に いう よう でし た 。 ...</td>\n",
       "      <td>0</td>\n",
       "    </tr>\n",
       "    <tr>\n",
       "      <th>1190</th>\n",
       "      <td>touson</td>\n",
       "      <td>と 言 つて 盃 を さす 。 丑松 は 其 を 受取 つて 、 一息 に ぐいと 飲 乾 ...</td>\n",
       "      <td>1</td>\n",
       "    </tr>\n",
       "    <tr>\n",
       "      <th>1132</th>\n",
       "      <td>touson</td>\n",
       "      <td>しかし 、 うまく 行 つて 呉れる と 好い です が なあ ——</td>\n",
       "      <td>1</td>\n",
       "    </tr>\n",
       "    <tr>\n",
       "      <th>731</th>\n",
       "      <td>souseki</td>\n",
       "      <td>そう かい 、 それ じゃ 早く お 出し 。 そんな 事 は 他  ひと  が 気 を ...</td>\n",
       "      <td>0</td>\n",
       "    </tr>\n",
       "    <tr>\n",
       "      <th>1754</th>\n",
       "      <td>touson</td>\n",
       "      <td>あゝ 、 丑松 が 駈 付け た 時 は 、 もう 間 に 合 は なかつ た 。 丑松 ば...</td>\n",
       "      <td>1</td>\n",
       "    </tr>\n",
       "  </tbody>\n",
       "</table>\n",
       "</div>"
      ],
      "text/plain": [
       "         type                                               text  category_id\n",
       "405   souseki  妻 の 母 は 時々 ｜ 気 拙  きまず  い 事 を 妻 に いう よう でし た 。 ...            0\n",
       "1190   touson  と 言 つて 盃 を さす 。 丑松 は 其 を 受取 つて 、 一息 に ぐいと 飲 乾 ...            1\n",
       "1132   touson                 しかし 、 うまく 行 つて 呉れる と 好い です が なあ ——            1\n",
       "731   souseki   そう かい 、 それ じゃ 早く お 出し 。 そんな 事 は 他  ひと  が 気 を ...            0\n",
       "1754   touson  あゝ 、 丑松 が 駈 付け た 時 は 、 もう 間 に 合 は なかつ た 。 丑松 ば...            1"
      ]
     },
     "execution_count": 20,
     "metadata": {},
     "output_type": "execute_result"
    }
   ],
   "source": [
    "df_train = pd.read_csv(\"../input/train_aozora.csv\", sep='\\t')\n",
    "df_train['category_id'] = df_train.type.factorize()[0]\n",
    "df_train.sample(5, random_state=0)"
   ]
  },
  {
   "cell_type": "code",
   "execution_count": 21,
   "metadata": {},
   "outputs": [],
   "source": [
    "train_input_fn = tf.estimator.inputs.pandas_input_fn(\n",
    "        df_train, df_train[\"category_id\"], num_epochs=None, shuffle=True)"
   ]
  },
  {
   "cell_type": "code",
   "execution_count": 23,
   "metadata": {},
   "outputs": [
    {
     "data": {
      "text/html": [
       "<div>\n",
       "<style scoped>\n",
       "    .dataframe tbody tr th:only-of-type {\n",
       "        vertical-align: middle;\n",
       "    }\n",
       "\n",
       "    .dataframe tbody tr th {\n",
       "        vertical-align: top;\n",
       "    }\n",
       "\n",
       "    .dataframe thead th {\n",
       "        text-align: right;\n",
       "    }\n",
       "</style>\n",
       "<table border=\"1\" class=\"dataframe\">\n",
       "  <thead>\n",
       "    <tr style=\"text-align: right;\">\n",
       "      <th></th>\n",
       "      <th>type</th>\n",
       "      <th>text</th>\n",
       "      <th>category_id</th>\n",
       "    </tr>\n",
       "  </thead>\n",
       "  <tbody>\n",
       "    <tr>\n",
       "      <th>153</th>\n",
       "      <td>souseki</td>\n",
       "      <td>それで なぜ 活動 が でき ない ん でしょ う</td>\n",
       "      <td>0</td>\n",
       "    </tr>\n",
       "    <tr>\n",
       "      <th>393</th>\n",
       "      <td>touson</td>\n",
       "      <td>わり や （ 汝  なん ぢ  は ） 飛ん で も ねえ こと を 為 て 呉れ た な...</td>\n",
       "      <td>1</td>\n",
       "    </tr>\n",
       "    <tr>\n",
       "      <th>54</th>\n",
       "      <td>souseki</td>\n",
       "      <td>ええ</td>\n",
       "      <td>0</td>\n",
       "    </tr>\n",
       "    <tr>\n",
       "      <th>188</th>\n",
       "      <td>souseki</td>\n",
       "      <td>私 は 緊張 し て 唾液  つば き  を 呑  の  み 込ん だ 。</td>\n",
       "      <td>0</td>\n",
       "    </tr>\n",
       "    <tr>\n",
       "      <th>196</th>\n",
       "      <td>souseki</td>\n",
       "      <td>私 は 始め 心 の なか で 、 何 も 知ら ない 母 を 憐  あわ  れん だ 。 ...</td>\n",
       "      <td>0</td>\n",
       "    </tr>\n",
       "  </tbody>\n",
       "</table>\n",
       "</div>"
      ],
      "text/plain": [
       "        type                                               text  category_id\n",
       "153  souseki                         それで なぜ 活動 が でき ない ん でしょ う             0\n",
       "393   touson   わり や （ 汝  なん ぢ  は ） 飛ん で も ねえ こと を 為 て 呉れ た な...            1\n",
       "54   souseki                                                ええ             0\n",
       "188  souseki              私 は 緊張 し て 唾液  つば き  を 呑  の  み 込ん だ 。            0\n",
       "196  souseki  私 は 始め 心 の なか で 、 何 も 知ら ない 母 を 憐  あわ  れん だ 。 ...            0"
      ]
     },
     "execution_count": 23,
     "metadata": {},
     "output_type": "execute_result"
    }
   ],
   "source": [
    "df_test = pd.read_csv(\"../input/test_aozora.csv\", sep='\\t')\n",
    "df_test['category_id'] = df_test.type.factorize()[0]\n",
    "df_test.sample(5, random_state=0)"
   ]
  },
  {
   "cell_type": "code",
   "execution_count": 29,
   "metadata": {},
   "outputs": [],
   "source": [
    "predict_test_input_fn = tf.estimator.inputs.pandas_input_fn(\n",
    "        df_test, df_test[\"category_id\"], shuffle=False)"
   ]
  },
  {
   "cell_type": "code",
   "execution_count": 25,
   "metadata": {},
   "outputs": [],
   "source": [
    "embedded_text_feature_column = hub.text_embedding_column(\n",
    "        key=\"text\", \n",
    "        module_spec=\"https://tfhub.dev/google/nnlm-ja-dim128/1\")"
   ]
  },
  {
   "cell_type": "code",
   "execution_count": 26,
   "metadata": {},
   "outputs": [
    {
     "name": "stdout",
     "output_type": "stream",
     "text": [
      "INFO:tensorflow:Using default config.\n",
      "WARNING:tensorflow:Using temporary folder as model directory: /var/folders/k9/0d1smgqj6f9_hkzf80qfbw80941m76/T/tmp_djvrufl\n",
      "INFO:tensorflow:Using config: {'_model_dir': '/var/folders/k9/0d1smgqj6f9_hkzf80qfbw80941m76/T/tmp_djvrufl', '_tf_random_seed': None, '_save_summary_steps': 100, '_save_checkpoints_steps': None, '_save_checkpoints_secs': 600, '_session_config': allow_soft_placement: true\n",
      "graph_options {\n",
      "  rewrite_options {\n",
      "    meta_optimizer_iterations: ONE\n",
      "  }\n",
      "}\n",
      ", '_keep_checkpoint_max': 5, '_keep_checkpoint_every_n_hours': 10000, '_log_step_count_steps': 100, '_train_distribute': None, '_device_fn': None, '_protocol': None, '_eval_distribute': None, '_experimental_distribute': None, '_service': None, '_cluster_spec': <tensorflow.python.training.server_lib.ClusterSpec object at 0x12061ceb8>, '_task_type': 'worker', '_task_id': 0, '_global_id_in_cluster': 0, '_master': '', '_evaluation_master': '', '_is_chief': True, '_num_ps_replicas': 0, '_num_worker_replicas': 1}\n"
     ]
    }
   ],
   "source": [
    "estimator = tf.estimator.DNNClassifier(\n",
    "        hidden_units=[512, 128],\n",
    "        feature_columns=[embedded_text_feature_column],\n",
    "        n_classes=2,\n",
    "        optimizer=tf.train.AdamOptimizer(learning_rate=0.003))"
   ]
  },
  {
   "cell_type": "code",
   "execution_count": 27,
   "metadata": {},
   "outputs": [
    {
     "name": "stdout",
     "output_type": "stream",
     "text": [
      "INFO:tensorflow:Calling model_fn.\n",
      "INFO:tensorflow:Saver not created because there are no variables in the graph to restore\n",
      "INFO:tensorflow:Saver not created because there are no variables in the graph to restore\n",
      "INFO:tensorflow:Done calling model_fn.\n",
      "INFO:tensorflow:Create CheckpointSaverHook.\n",
      "INFO:tensorflow:Graph was finalized.\n",
      "INFO:tensorflow:Running local_init_op.\n",
      "INFO:tensorflow:Done running local_init_op.\n",
      "INFO:tensorflow:Saving checkpoints for 0 into /var/folders/k9/0d1smgqj6f9_hkzf80qfbw80941m76/T/tmp_djvrufl/model.ckpt.\n",
      "INFO:tensorflow:loss = 92.91701, step = 1\n",
      "INFO:tensorflow:global_step/sec: 151.791\n",
      "INFO:tensorflow:loss = 13.47764, step = 101 (0.659 sec)\n",
      "INFO:tensorflow:global_step/sec: 171.874\n",
      "INFO:tensorflow:loss = 1.4115262, step = 201 (0.582 sec)\n",
      "INFO:tensorflow:global_step/sec: 172.133\n",
      "INFO:tensorflow:loss = 0.27206126, step = 301 (0.581 sec)\n",
      "INFO:tensorflow:global_step/sec: 168.46\n",
      "INFO:tensorflow:loss = 0.03694132, step = 401 (0.594 sec)\n",
      "INFO:tensorflow:global_step/sec: 168.756\n",
      "INFO:tensorflow:loss = 0.014909668, step = 501 (0.593 sec)\n",
      "INFO:tensorflow:global_step/sec: 173.732\n",
      "INFO:tensorflow:loss = 0.01021946, step = 601 (0.575 sec)\n",
      "INFO:tensorflow:global_step/sec: 177.496\n",
      "INFO:tensorflow:loss = 0.0047749393, step = 701 (0.563 sec)\n",
      "INFO:tensorflow:global_step/sec: 173.74\n",
      "INFO:tensorflow:loss = 0.0053112544, step = 801 (0.576 sec)\n",
      "INFO:tensorflow:global_step/sec: 168.1\n",
      "INFO:tensorflow:loss = 0.0050677964, step = 901 (0.595 sec)\n",
      "INFO:tensorflow:Saving checkpoints for 1000 into /var/folders/k9/0d1smgqj6f9_hkzf80qfbw80941m76/T/tmp_djvrufl/model.ckpt.\n",
      "INFO:tensorflow:Loss for final step: 0.003917247.\n"
     ]
    },
    {
     "data": {
      "text/plain": [
       "<tensorflow_estimator.python.estimator.canned.dnn.DNNClassifier at 0x12061ce10>"
      ]
     },
     "execution_count": 27,
     "metadata": {},
     "output_type": "execute_result"
    }
   ],
   "source": [
    "estimator.train(input_fn=train_input_fn, steps=1000)"
   ]
  },
  {
   "cell_type": "code",
   "execution_count": 30,
   "metadata": {},
   "outputs": [
    {
     "name": "stdout",
     "output_type": "stream",
     "text": [
      "INFO:tensorflow:Calling model_fn.\n",
      "INFO:tensorflow:Saver not created because there are no variables in the graph to restore\n",
      "INFO:tensorflow:Saver not created because there are no variables in the graph to restore\n",
      "WARNING:tensorflow:Trapezoidal rule is known to produce incorrect PR-AUCs; please switch to \"careful_interpolation\" instead.\n",
      "WARNING:tensorflow:Trapezoidal rule is known to produce incorrect PR-AUCs; please switch to \"careful_interpolation\" instead.\n",
      "INFO:tensorflow:Done calling model_fn.\n",
      "INFO:tensorflow:Starting evaluation at 2019-02-21T00:12:25Z\n",
      "INFO:tensorflow:Graph was finalized.\n",
      "INFO:tensorflow:Restoring parameters from /var/folders/k9/0d1smgqj6f9_hkzf80qfbw80941m76/T/tmp_djvrufl/model.ckpt-1000\n",
      "INFO:tensorflow:Running local_init_op.\n",
      "INFO:tensorflow:Done running local_init_op.\n",
      "INFO:tensorflow:Finished evaluation at 2019-02-21-00:12:26\n",
      "INFO:tensorflow:Saving dict for global step 1000: accuracy = 0.9701835, accuracy_baseline = 0.5, auc = 0.98715395, auc_precision_recall = 0.98689896, average_loss = 0.141752, global_step = 1000, label/mean = 0.5, loss = 15.450968, precision = 0.9638009, prediction/mean = 0.512564, recall = 0.9770642\n",
      "INFO:tensorflow:Saving 'checkpoint_path' summary for global step 1000: /var/folders/k9/0d1smgqj6f9_hkzf80qfbw80941m76/T/tmp_djvrufl/model.ckpt-1000\n",
      "INFO:tensorflow:Calling model_fn.\n",
      "INFO:tensorflow:Saver not created because there are no variables in the graph to restore\n",
      "INFO:tensorflow:Saver not created because there are no variables in the graph to restore\n",
      "WARNING:tensorflow:Trapezoidal rule is known to produce incorrect PR-AUCs; please switch to \"careful_interpolation\" instead.\n",
      "WARNING:tensorflow:Trapezoidal rule is known to produce incorrect PR-AUCs; please switch to \"careful_interpolation\" instead.\n",
      "INFO:tensorflow:Done calling model_fn.\n",
      "INFO:tensorflow:Starting evaluation at 2019-02-21T00:12:27Z\n",
      "INFO:tensorflow:Graph was finalized.\n",
      "INFO:tensorflow:Restoring parameters from /var/folders/k9/0d1smgqj6f9_hkzf80qfbw80941m76/T/tmp_djvrufl/model.ckpt-1000\n",
      "INFO:tensorflow:Running local_init_op.\n",
      "INFO:tensorflow:Done running local_init_op.\n",
      "INFO:tensorflow:Finished evaluation at 2019-02-21-00:12:29\n",
      "INFO:tensorflow:Saving dict for global step 1000: accuracy = 0.9701835, accuracy_baseline = 0.5, auc = 0.98715395, auc_precision_recall = 0.98689896, average_loss = 0.141752, global_step = 1000, label/mean = 0.5, loss = 15.450968, precision = 0.9638009, prediction/mean = 0.512564, recall = 0.9770642\n",
      "INFO:tensorflow:Saving 'checkpoint_path' summary for global step 1000: /var/folders/k9/0d1smgqj6f9_hkzf80qfbw80941m76/T/tmp_djvrufl/model.ckpt-1000\n",
      "Test set accuracy: 0.9701834917068481\n"
     ]
    }
   ],
   "source": [
    "test_eval_result = estimator.evaluate(input_fn=predict_test_input_fn)\n",
    "test_eval_result = estimator.evaluate(input_fn=predict_test_input_fn)\n",
    "print(\"Test set accuracy: {accuracy}\".format(**test_eval_result))"
   ]
  },
  {
   "cell_type": "code",
   "execution_count": 32,
   "metadata": {},
   "outputs": [
    {
     "name": "stdout",
     "output_type": "stream",
     "text": [
      "INFO:tensorflow:Calling model_fn.\n",
      "INFO:tensorflow:Saver not created because there are no variables in the graph to restore\n",
      "INFO:tensorflow:Saver not created because there are no variables in the graph to restore\n",
      "INFO:tensorflow:Done calling model_fn.\n",
      "INFO:tensorflow:Graph was finalized.\n",
      "INFO:tensorflow:Restoring parameters from /var/folders/k9/0d1smgqj6f9_hkzf80qfbw80941m76/T/tmp_djvrufl/model.ckpt-1000\n",
      "INFO:tensorflow:Running local_init_op.\n",
      "INFO:tensorflow:Done running local_init_op.\n"
     ]
    },
    {
     "data": {
      "image/png": "[encoded data removed]",
      "text/plain": [
       "<Figure size 432x288 with 2 Axes>"
      ]
     },
     "metadata": {
      "needs_background": "light"
     },
     "output_type": "display_data"
    }
   ],
   "source": [
    "def get_predictions(estimator, input_fn):\n",
    "    return [x[\"class_ids\"][0] for x in estimator.predict(input_fn=input_fn)]\n",
    "\n",
    "LABELS = [\n",
    "    0, 1\n",
    "]\n",
    "\n",
    "# Create a confusion matrix on training data.\n",
    "with tf.Graph().as_default():\n",
    "    cm = tf.confusion_matrix(df_test[\"category_id\"], \n",
    "                           get_predictions(estimator, predict_test_input_fn))\n",
    "    with tf.Session() as session:\n",
    "        cm_out = session.run(cm)\n",
    "\n",
    "# Normalize the confusion matrix so that each row sums to 1.\n",
    "cm_out = cm_out.astype(float) / cm_out.sum(axis=1)[:, np.newaxis]\n",
    "\n",
    "sns.heatmap(cm_out, annot=True, xticklabels=LABELS, yticklabels=LABELS);\n",
    "plt.xlabel(\"Predicted\");\n",
    "plt.ylabel(\"True\");"
   ]
  },
  {
   "cell_type": "code",
   "execution_count": null,
   "metadata": {},
   "outputs": [],
   "source": []
  }
 ],
 "metadata": {
  "kernelspec": {
   "display_name": "Python 3",
   "language": "python",
   "name": "python3"
  },
  "language_info": {
   "codemirror_mode": {
    "name": "ipython",
    "version": 3
   },
   "file_extension": ".py",
   "mimetype": "text/x-python",
   "name": "python",
   "nbconvert_exporter": "python",
   "pygments_lexer": "ipython3",
   "version": "3.7.2"
  }
 },
 "nbformat": 4,
 "nbformat_minor": 2
}
